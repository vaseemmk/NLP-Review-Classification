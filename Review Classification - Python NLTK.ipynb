{
 "cells": [
  {
   "cell_type": "markdown",
   "metadata": {},
   "source": [
    "<h1><center><font color=DarkSlateBlue   >Grad Independent Study Project - IMDB Review Classification</center></h1> <font color>\n",
    "    Student - Vaseem Khan <br/>\n",
    "    Instructor - Dr. Genc\n"
   ]
  },
  {
   "cell_type": "markdown",
   "metadata": {},
   "source": [
    "**Executive Summary** <br>\n",
    "***\n",
    "<font color=SlateGray>The primary objective of the project was to explore the possibility of using written words as identifier of reviewer expertise. The scope of the project was restricted to to analyzing reviews written on IMDB website and utilizing multiple Machine learning models to predict whether the review was written by ***<u>Layman</u>*** or an ***<u>Expert</u>***. <br> \n",
    "    In the first part of project we made an hypothesis 'The Expert user review will showcase use of wide ranging vocabulary compared to a Normal user'. To test this hypothesis we rectified the data imbalance issue and truncated text to 500 characters. Thereafter we vectorized our dataset and ran 3 Machine Learning models (<i><u>SVM,Random Forest and Logistic Regression</i></u>) however our results were close to 55% accuracy which is just better than a random guess. <br>\n",
    "    We then forward with a new hypothesis that 'The Expert user may have a different composition % of use of Part of Speech like 'Noun','Verb','Adjective' etc compared to a Normal user'. To test this hypotheis we utilized entire review text and the same 3 models and got much improved results ranging upto 88% accuracy. <br>\n",
    "    To further check the possibility of improving accuracy we combined the Vectorized data and the POS Tag data and ran the ML models \n",
    "    \n",
    "This entire exercise was accomplished using different Python's libraries like Scikit Learn, NLTK, Pandas and Numpy\n",
    "    \n",
    "The concept of utizing reviews to identify 'User Expertise/Non Expertise' has wide ranging business application. One of the examples would by any eCommerce website like Amazon can utilize utilize the model to identify quality reviewer with ML models and target them with free samples for additional quality reviews of listed products."
   ]
  },
  {
   "cell_type": "markdown",
   "metadata": {},
   "source": [
    "<h2><center><font color=DarkSlateBlue>Loading Python Packages Preprocessing data"
   ]
  },
  {
   "cell_type": "code",
   "execution_count": 31,
   "metadata": {
    "scrolled": true
   },
   "outputs": [],
   "source": [
    "#Loading Base Packages\n",
    "import pandas as pd\n",
    "import numpy as np\n",
    "from matplotlib import pyplot as plt\n",
    "%matplotlib inline\n",
    "\n",
    "# Loading Scikit Learn Machine Learning and PreprocessingPackages\n",
    "from sklearn.ensemble import RandomForestClassifier\n",
    "from sklearn.svm import SVC\n",
    "from sklearn.linear_model import LogisticRegression\n",
    "\n",
    "#Data Split and Cross Validations\n",
    "from sklearn.model_selection import train_test_split\n",
    "from sklearn.model_selection import KFold,cross_val_score\n",
    "\n",
    "#Loading NLTK Library for Textual Analysis and Processing\n",
    "import nltk\n",
    "from nltk import Counter\n",
    "import string\n",
    "import re\n",
    "from sklearn.feature_extraction.text import TfidfVectorizer\n",
    "from sklearn.feature_extraction.text import CountVectorizer\n",
    "sw = nltk.corpus.stopwords.words('english')\n",
    "ps = nltk.PorterStemmer()\n",
    "\n",
    "\n",
    "#Loading Packages for Metrics and Accuracy Checks\n",
    "from sklearn.metrics import confusion_matrix\n",
    "from sklearn.metrics import precision_recall_fscore_support as score\n",
    "from sklearn import metrics\n",
    "from sklearn.metrics import accuracy_score\n"
   ]
  },
  {
   "cell_type": "markdown",
   "metadata": {},
   "source": [
    "<h4><left><font color=DarkSlateBlue>     Loading Files,Slicing Data and Renaming Columns"
   ]
  },
  {
   "cell_type": "code",
   "execution_count": 32,
   "metadata": {
    "scrolled": true
   },
   "outputs": [
    {
     "name": "stdout",
     "output_type": "stream",
     "text": [
      "Total Normal Reviews:  88233\n",
      "Total Expert Reviews:  19047\n"
     ]
    }
   ],
   "source": [
    "#Reading Data from CSV file using Pandas\n",
    "critic_data = pd.read_csv('C:/Data Science/Independent Project/expert_reviews.csv')\n",
    "user_data = pd.read_csv('C:/Data Science/Independent Project/Consolidate.csv',encoding='latin1')\n",
    "\n",
    "#Slicing Required columns\n",
    "ud = user_data[['links_link','links_product_review']]\n",
    "cd = critic_data[['clean url','review text']]\n",
    "\n",
    "#Renaming Columns\n",
    "ud.columns = ['Links','Review']\n",
    "cd.columns = ['Links','Review']\n",
    "print('Total Normal Reviews: ',len(ud))\n",
    "print('Total Expert Reviews: ',len(cd))"
   ]
  },
  {
   "cell_type": "markdown",
   "metadata": {},
   "source": [
    "<h4><left><font color=DarkSlateBlue> Dropping NA,creating copy and checking row count"
   ]
  },
  {
   "cell_type": "code",
   "execution_count": 33,
   "metadata": {},
   "outputs": [
    {
     "name": "stdout",
     "output_type": "stream",
     "text": [
      "Total Normal Reviews after dropping NAs: 72487\n",
      "Total Expert Reviews after dropping NAs: 18628\n"
     ]
    }
   ],
   "source": [
    "#Dropping NA,creating copy and checking row count\n",
    "\n",
    "ud = ud.dropna(axis=0,how='any').copy()\n",
    "cd = cd.dropna(axis=0,how='any').copy()\n",
    "print('Total Normal Reviews after dropping NAs:',len(ud))\n",
    "print('Total Expert Reviews after dropping NAs:',len(cd))"
   ]
  },
  {
   "cell_type": "markdown",
   "metadata": {},
   "source": [
    "<h4><left><font color=DarkSlateBlue> Data is imbalanced and we will randomly sample 15K rows from each dataset"
   ]
  },
  {
   "cell_type": "code",
   "execution_count": 34,
   "metadata": {},
   "outputs": [
    {
     "name": "stdout",
     "output_type": "stream",
     "text": [
      "Normal User Sample utilized:  15000\n",
      "Expert User Review Utilized:  15000\n"
     ]
    }
   ],
   "source": [
    "ud = ud.sample(n=15000,random_state=100)\n",
    "cd = cd.sample(n=15000,random_state=100)\n",
    "print('Normal User Sample utilized: ',len(ud))\n",
    "print('Expert User Review Utilized: ',len(cd))"
   ]
  },
  {
   "cell_type": "code",
   "execution_count": 35,
   "metadata": {
    "scrolled": false
   },
   "outputs": [],
   "source": [
    "#Adding new column labes for each dataset and combining them. Adding new rows of labels\n",
    "\n",
    "ud['Reviewer'] = 'Normal'\n",
    "cd['Reviewer'] = 'Expert'\n",
    "combine = pd.concat([ud,cd],ignore_index=True)\n",
    "review = combine['Review']\n",
    "label = combine['Reviewer']"
   ]
  },
  {
   "cell_type": "markdown",
   "metadata": {},
   "source": [
    "<h2><left><font color=DarkSlateBlue> Note </h2>\n",
    "\n",
    "    \n",
    "<font color=SlateGray> We ran our model using entire text from each review earlier. This provides us a unusally a very high accuracy in our model. The primary cause of this was length of reviews. Experts on an average tends to write longer reviews(5000+ character) compared to normal reviewer (~600 character). Hence to remove that differentiating factor we decided to utilize only first 500 characters of the review.  <font color=SlateGray> <br>\n",
    "    ** Below table and graphs shows our stated observation **"
   ]
  },
  {
   "cell_type": "code",
   "execution_count": 36,
   "metadata": {
    "scrolled": true
   },
   "outputs": [
    {
     "data": {
      "text/html": [
       "<div>\n",
       "<style scoped>\n",
       "    .dataframe tbody tr th:only-of-type {\n",
       "        vertical-align: middle;\n",
       "    }\n",
       "\n",
       "    .dataframe tbody tr th {\n",
       "        vertical-align: top;\n",
       "    }\n",
       "\n",
       "    .dataframe thead th {\n",
       "        text-align: right;\n",
       "    }\n",
       "</style>\n",
       "<table border=\"1\" class=\"dataframe\">\n",
       "  <thead>\n",
       "    <tr style=\"text-align: right;\">\n",
       "      <th></th>\n",
       "      <th>Text length</th>\n",
       "    </tr>\n",
       "    <tr>\n",
       "      <th>Reviewer</th>\n",
       "      <th></th>\n",
       "    </tr>\n",
       "  </thead>\n",
       "  <tbody>\n",
       "    <tr>\n",
       "      <th>Expert</th>\n",
       "      <td>5083.0</td>\n",
       "    </tr>\n",
       "    <tr>\n",
       "      <th>Normal</th>\n",
       "      <td>585.0</td>\n",
       "    </tr>\n",
       "  </tbody>\n",
       "</table>\n",
       "</div>"
      ],
      "text/plain": [
       "          Text length\n",
       "Reviewer             \n",
       "Expert         5083.0\n",
       "Normal          585.0"
      ]
     },
     "execution_count": 36,
     "metadata": {},
     "output_type": "execute_result"
    }
   ],
   "source": [
    "# Checking Mean length of reviewer before Truncation\n",
    "combine['Text length'] = combine['Review'].apply(lambda x: len(x))\n",
    "combine.groupby(['Reviewer']).mean().round(0)"
   ]
  },
  {
   "cell_type": "code",
   "execution_count": 37,
   "metadata": {},
   "outputs": [
    {
     "name": "stderr",
     "output_type": "stream",
     "text": [
      "C:\\Users\\vasee\\Anaconda3\\lib\\site-packages\\matplotlib\\axes\\_axes.py:6521: MatplotlibDeprecationWarning: \n",
      "The 'normed' kwarg was deprecated in Matplotlib 2.1 and will be removed in 3.1. Use 'density' instead.\n",
      "  alternative=\"'density'\", removal=\"3.1\")\n"
     ]
    },
    {
     "data": {
      "image/png": "[encoded data removed]",
      "text/plain": [
       "<Figure size 432x288 with 1 Axes>"
      ]
     },
     "metadata": {
      "needs_background": "light"
     },
     "output_type": "display_data"
    }
   ],
   "source": [
    "#Plotting Graph to show above observation\n",
    "bins = np.linspace(0,20000,num = 50)\n",
    "plt.hist(combine[combine['Reviewer']=='Normal']['Text length'],bins,alpha = 0.5,normed=True,label='Normal')\n",
    "plt.hist(combine[combine['Reviewer']=='Expert']['Text length'],bins,alpha = 0.5,normed=True,label='Expert')\n",
    "plt.legend(loc='upper right')\n",
    "plt.show()"
   ]
  },
  {
   "cell_type": "code",
   "execution_count": 38,
   "metadata": {},
   "outputs": [],
   "source": [
    "#Truncating Review size to 500 characters\n",
    "\n",
    "combine['Review_Short'] = combine['Review'].str[:500]"
   ]
  },
  {
   "cell_type": "markdown",
   "metadata": {},
   "source": [
    "<h2><center><font color=DarkSlateBlue>Text Cleanup and Vectorization\n",
    "    \n",
    "    "
   ]
  },
  {
   "cell_type": "markdown",
   "metadata": {},
   "source": [
    "<font color=SlateGray> After truncating the review we are defining a function to conduct the following preprocessing on our review:\n",
    "    - remove punctuations\n",
    "    - Lower the case\n",
    "    - Split the text with regex\n",
    "    - Stem the words using Porter stemming\n",
    " This will help to create a matrix which will be utilized as input to  run our Machine Learning \n",
    " \n",
    "    The ** Porter stemming algorithm (or ‘Porter stemmer’)** is a process for removing the commoner morphological and inflexional endings from words in English. Its main use is as part of a term normalisation process that is usually done when setting up Information Retrieval systems.\n",
    "    \n",
    "    ** Count Vectorizer ** convert a collection of text documents to a matrix of token counts"
   ]
  },
  {
   "cell_type": "code",
   "execution_count": 39,
   "metadata": {
    "scrolled": true
   },
   "outputs": [],
   "source": [
    "# Writing function to remove punc and stopwords,split and stem them) \n",
    "\n",
    "def clean_text(text):\n",
    "    text = \"\".join([i.lower() for i in text if i not in string.punctuation])\n",
    "    tokens = re.split('\\W+',text)\n",
    "    text = [ps.stem(i) for i in tokens if i not in sw]\n",
    "    return text\n",
    "combine['ouput'] = combine['Review_Short'].apply(lambda x: clean_text(x))"
   ]
  },
  {
   "cell_type": "code",
   "execution_count": 40,
   "metadata": {
    "scrolled": false
   },
   "outputs": [],
   "source": [
    "#Running Clean_text function and vectorizing data using Count Vectorizer\n",
    "\n",
    "count_vect = CountVectorizer(analyzer=clean_text)\n",
    "X_tfid = count_vect.fit_transform(combine['ouput'])\n"
   ]
  },
  {
   "cell_type": "markdown",
   "metadata": {},
   "source": [
    "<h2><center><font color=DarkSlateBlue>Machine Learning</center></h2> <font color> "
   ]
  },
  {
   "cell_type": "markdown",
   "metadata": {},
   "source": [
    "<h3><center><font color=DarkSlateBlue >Random Forest (Count Vect)</center></h3> <font color> \n",
    "    <font color=SlateGray>A random forest is a meta estimator that fits a number of decision tree classifiers on various sub-samples of the dataset and uses averaging to improve the predictive accuracy and control over-fitting. The sub-sample size is always the same as the original input sample size but the samples are drawn with replacement \n",
    "   "
   ]
  },
  {
   "cell_type": "code",
   "execution_count": 41,
   "metadata": {},
   "outputs": [
    {
     "data": {
      "text/plain": [
       "array([0.55      , 0.54895833, 0.543125  , 0.48208333, 0.555625  ])"
      ]
     },
     "execution_count": 41,
     "metadata": {},
     "output_type": "execute_result"
    }
   ],
   "source": [
    "#Creating Training and Testing Samples\n",
    "X_train, y_train, X_test,y_test = train_test_split(X_tfid,label,test_size = 0.2,random_state=52)\n",
    "\n",
    "# Running KFold cross validaton\n",
    "\n",
    "rf = RandomForestClassifier(n_jobs=-1,n_estimators=100,max_depth=20)\n",
    "k_fold = KFold(n_splits=5)\n",
    "cross_val_score(rf,X_train,X_test,cv=k_fold,scoring='accuracy',n_jobs=-1)"
   ]
  },
  {
   "cell_type": "markdown",
   "metadata": {},
   "source": [
    "<h5><left><font color=DarkSlateBlue >Our model accuracy is very low and close to random guessing, we will continue to run other models"
   ]
  },
  {
   "cell_type": "code",
   "execution_count": 42,
   "metadata": {},
   "outputs": [
    {
     "name": "stdout",
     "output_type": "stream",
     "text": [
      "Actual  Predictions\n",
      "Expert  Expert          288\n",
      "        Normal         2728\n",
      "Normal  Normal         2984\n",
      "Name: Actual, dtype: int64\n",
      "\n",
      "Precision: 1.0 / Recall: 0.095 / Accuracy: 0.545\n"
     ]
    }
   ],
   "source": [
    "#Running Random forest model\n",
    "rf = RandomForestClassifier(n_estimators=100,max_depth=20,n_jobs=-1)\n",
    "rf_model = rf.fit(X_train,X_test)\n",
    "y_pred =rf_model.predict(y_train)\n",
    "\n",
    "# Review Results\n",
    "results=pd.DataFrame(list(zip(y_pred, y_test)),columns=['Predictions','Actual'])\n",
    "print(results.groupby(['Actual','Predictions'])['Actual'].agg('count'))\n",
    "\n",
    "print()\n",
    "\n",
    "precision, recall,fscore,support = score(y_test,y_pred,pos_label='Expert',average='binary')\n",
    "print('Precision: {} / Recall: {} / Accuracy: {}'.format(round(precision,3),round(recall,3),round((y_pred==y_test).sum()/len(y_pred),3)))"
   ]
  },
  {
   "cell_type": "code",
   "execution_count": 43,
   "metadata": {},
   "outputs": [
    {
     "data": {
      "image/png": "[encoded data removed]",
      "text/plain": [
       "<Figure size 432x288 with 1 Axes>"
      ]
     },
     "metadata": {
      "needs_background": "light"
     },
     "output_type": "display_data"
    }
   ],
   "source": [
    "#Preparing ROC Curve for Random Forest\n",
    "\n",
    "y_test.replace('Expert',1,inplace=True)\n",
    "y_test.replace('Normal',0,inplace=True)\n",
    "y_pred = pd.Series(y_pred)\n",
    "y_pred.replace('Expert',1,inplace=True)\n",
    "y_pred.replace('Normal',0,inplace=True)\n",
    "\n",
    "# calculate the fpr and tpr for all thresholds of the classification\n",
    "probs = rf.predict_proba(y_train)\n",
    "preds = probs[:,1]\n",
    "fpr, tpr, threshold = metrics.roc_curve(y_test, preds)\n",
    "roc_auc = metrics.auc(tpr, fpr)\n",
    "\n",
    "# method I: plt\n",
    "lw = 2\n",
    "plt.title('Receiver Operating Characteristic')\n",
    "plt.plot(tpr, fpr,label = 'AUC = %0.3f' % roc_auc)\n",
    "plt.legend(loc = 'lower right')\n",
    "plt.plot([0, 1], [0, 1],lw=lw, linestyle='--')\n",
    "plt.xlim([0, 1])\n",
    "plt.ylim([0, 1.05])\n",
    "plt.ylabel('True Positive Rate')\n",
    "plt.xlabel('False Positive Rate')\n",
    "plt.show()"
   ]
  },
  {
   "cell_type": "markdown",
   "metadata": {},
   "source": [
    "<h3><center><font color=DarkSlateBlue >Support Vector Machine (Count Vect)</center></h3> <font color> <br>\n",
    "   <font color=SlateGray> A Support Vector Machine (SVM) is a discriminative classifier formally defined by a separating hyperplane. In other words, given labeled training data (supervised learning), the algorithm outputs an optimal hyperplane which categorizes new examples. In two dimentional space this hyperplane is a line dividing a plane in two parts where in each class lay in either side."
   ]
  },
  {
   "cell_type": "code",
   "execution_count": 44,
   "metadata": {},
   "outputs": [],
   "source": [
    "X_train, y_train, X_test,y_test = train_test_split(X_tfid,label,test_size = 0.2,random_state=52)\n",
    "svm = SVC(kernel='linear',probability=True)\n",
    "svm_model = svm.fit(X_train,X_test)\n",
    "y_pred = svm_model.predict(y_train)"
   ]
  },
  {
   "cell_type": "code",
   "execution_count": 45,
   "metadata": {},
   "outputs": [
    {
     "data": {
      "text/plain": [
       "array([0.56645833, 0.563125  , 0.55875   , 0.58229167, 0.57166667])"
      ]
     },
     "execution_count": 45,
     "metadata": {},
     "output_type": "execute_result"
    }
   ],
   "source": [
    "from sklearn.model_selection import KFold,cross_val_score\n",
    "svm = SVC(kernel='linear')\n",
    "k_fold = KFold(n_splits=5)\n",
    "cross_val_score(svm,X_train,X_test,cv=k_fold,scoring='accuracy',n_jobs=-1)"
   ]
  },
  {
   "cell_type": "code",
   "execution_count": 46,
   "metadata": {
    "scrolled": true
   },
   "outputs": [
    {
     "name": "stdout",
     "output_type": "stream",
     "text": [
      "Actual  Predictions\n",
      "Expert  Expert          370\n",
      "        Normal         2646\n",
      "Normal  Normal         2984\n",
      "Name: Actual, dtype: int64\n",
      "\n",
      "Precision: 1.0 / Recall: 0.123 / Accuracy: 0.559\n"
     ]
    }
   ],
   "source": [
    "#Review Results\n",
    "results=pd.DataFrame(list(zip(y_pred, y_test)),columns=['Predictions','Actual'])\n",
    "print(results.groupby(['Actual','Predictions'])['Actual'].agg('count'))\n",
    "\n",
    "print()\n",
    "\n",
    "precision, recall,fscore,support = score(y_test,y_pred,pos_label='Expert',average='binary')\n",
    "print('Precision: {} / Recall: {} / Accuracy: {}'.format(round(precision,3),round(recall,3),round((y_pred==y_test).sum()/len(y_pred),3)))"
   ]
  },
  {
   "cell_type": "markdown",
   "metadata": {},
   "source": [
    "\n",
    "<h3><center><font color=DarkSlateBlue >Logistic Regression (Count Vect)</center></h3> <font color> <br>\n",
    "      <font color=SlateGray>  Logistic regression is a classification algorithm used to assign observations to a discrete set of classes. Unlike linear regression which outputs continuous number values, logistic regression transforms its output using the logistic sigmoid function to return a probability value which can then be mapped to two or more discrete classes.\n",
    "    \n",
    " "
   ]
  },
  {
   "cell_type": "code",
   "execution_count": 47,
   "metadata": {},
   "outputs": [],
   "source": [
    "#Creating Training and Testing Samples\n",
    "X_train, y_train, X_test,y_test = train_test_split(X_tfid,label,test_size = 0.2,random_state=52)\n",
    "logr = LogisticRegression()\n",
    "logr_model = logr.fit(X_train,X_test)\n",
    "y_pred = logr.predict(y_train)"
   ]
  },
  {
   "cell_type": "code",
   "execution_count": 48,
   "metadata": {},
   "outputs": [
    {
     "name": "stdout",
     "output_type": "stream",
     "text": [
      "Actual  Predictions\n",
      "Expert  Expert          370\n",
      "        Normal         2646\n",
      "Normal  Normal         2984\n",
      "Name: Actual, dtype: int64\n",
      "\n",
      "Precision: 1.0 / Recall: 0.123 / Accuracy: 0.559\n"
     ]
    }
   ],
   "source": [
    "#Review Results\n",
    "results=pd.DataFrame(list(zip(y_pred, y_test)),columns=['Predictions','Actual'])\n",
    "print(results.groupby(['Actual','Predictions'])['Actual'].agg('count'))\n",
    "\n",
    "print()\n",
    "\n",
    "precision, recall,fscore,support = score(y_test,y_pred,pos_label='Expert',average='binary')\n",
    "print('Precision: {} / Recall: {} / Accuracy: {}'.format(round(precision,3),round(recall,3),round((y_pred==y_test).sum()/len(y_pred),3)))"
   ]
  },
  {
   "cell_type": "code",
   "execution_count": 49,
   "metadata": {
    "scrolled": true
   },
   "outputs": [
    {
     "data": {
      "image/png": "[encoded data removed]",
      "text/plain": [
       "<Figure size 432x288 with 1 Axes>"
      ]
     },
     "metadata": {
      "needs_background": "light"
     },
     "output_type": "display_data"
    }
   ],
   "source": [
    "#Preparing ROC Curve for Logistic Regression\n",
    "\n",
    "y_test.replace('Expert',1,inplace=True)\n",
    "y_test.replace('Normal',0,inplace=True)\n",
    "y_pred = pd.Series(y_pred)\n",
    "y_pred.replace('Expert',1,inplace=True)\n",
    "y_pred.replace('Normal',0,inplace=True)\n",
    "\n",
    "# calculate the fpr and tpr for all thresholds of the classification\n",
    "probs = logr.predict_proba(y_train)\n",
    "preds3 = probs[:,1]\n",
    "fpr3, tpr3, threshold = metrics.roc_curve(y_test, preds3)\n",
    "roc_auc3 = metrics.auc(tpr3, fpr3)\n",
    "\n",
    "# method I: plt\n",
    "lw = 2\n",
    "plt.title('Receiver Operating Characteristic')\n",
    "plt.plot(tpr3, fpr3,label = 'AUC = %0.3f' % roc_auc3)\n",
    "plt.legend(loc = 'lower right')\n",
    "plt.plot([0, 1], [0, 1],lw=lw, linestyle='--')\n",
    "plt.xlim([0, 1])\n",
    "plt.ylim([0, 1.05])\n",
    "plt.ylabel('True Positive Rate')\n",
    "plt.xlabel('False Positive Rate')\n",
    "plt.show()"
   ]
  },
  {
   "cell_type": "markdown",
   "metadata": {},
   "source": [
    "<h2><center><font color=DarkSlateBlue >Note </center></h2> <font color> \n",
    "    <left><font color=DarkSlateBlue >Based on the results of our 3 models we can say the use of Count Vectorizer(word frequency) is not sufficient to classify user reviews. There seems to no strong differentiating factors among word frequency count. Hence we will move to utilize NLTK Part of Speech tags to check if they can help to classify our reviewers"
   ]
  },
  {
   "cell_type": "markdown",
   "metadata": {},
   "source": [
    "<h2><center><font color=DarkSlateBlue >Prediction using Part of Speech Tagging</center></h2> <font color>\n",
    "       <font color=SlateGray> We are using NLTK library to identify word's Part of Speech and will then generate a counter to see frequency of a particular POS in % terms compared to total word count.Also unlike above model we will use entire text and not truncated text for analysis."
   ]
  },
  {
   "cell_type": "code",
   "execution_count": 50,
   "metadata": {},
   "outputs": [],
   "source": [
    "#Removing Punctuation from Original Review\n",
    "def clean_text(text):\n",
    "    text = \"\".join([i.lower() for i in text if i not in string.punctuation])\n",
    "    return text\n",
    "combine['Review_without_punc'] = combine['Review'].apply(lambda x: clean_text(x))"
   ]
  },
  {
   "cell_type": "code",
   "execution_count": 51,
   "metadata": {},
   "outputs": [],
   "source": [
    "###Very Time Consuming Operation - Since its utilized complete Review Text(Non Truncated)\n",
    "#Tokenize, create Part of Speech Tags and combine them\n",
    "\n",
    "combine['pos text'] =  [nltk.word_tokenize(i)for i in combine['Review_without_punc']] \n",
    "combine['pos'] =  [nltk.pos_tag(i)for i in combine['pos text']]   \n",
    "combine['pos_counter'] = [Counter( tag for word ,  tag in i) for i in combine['pos']] "
   ]
  },
  {
   "cell_type": "code",
   "execution_count": 74,
   "metadata": {},
   "outputs": [],
   "source": [
    "#Getting count columns  for  each Part of Speech Tag\n",
    "pos_councter_df = combine['pos_counter'].apply(pd.Series)\n",
    "pos_councter_df = pos_councter_df.fillna(0)"
   ]
  },
  {
   "cell_type": "code",
   "execution_count": 55,
   "metadata": {},
   "outputs": [
    {
     "data": {
      "text/plain": [
       "['NNS',\n",
       " 'VBP',\n",
       " 'PRP',\n",
       " 'DT',\n",
       " 'NN',\n",
       " 'RB',\n",
       " 'VBZ',\n",
       " 'IN',\n",
       " 'JJ',\n",
       " 'WRB',\n",
       " 'PRP$',\n",
       " 'CC',\n",
       " 'CD',\n",
       " 'MD',\n",
       " 'VB',\n",
       " 'TO',\n",
       " 'VBG',\n",
       " 'JJS',\n",
       " 'VBD',\n",
       " 'VBN',\n",
       " 'WP',\n",
       " 'RBR',\n",
       " 'JJR',\n",
       " 'WDT',\n",
       " 'EX',\n",
       " 'RP',\n",
       " 'PDT',\n",
       " 'RBS',\n",
       " 'FW',\n",
       " 'NNPS',\n",
       " 'UH',\n",
       " 'NNP',\n",
       " 'WP$',\n",
       " '$',\n",
       " \"''\",\n",
       " 'POS',\n",
       " 'SYM']"
      ]
     },
     "execution_count": 55,
     "metadata": {},
     "output_type": "execute_result"
    }
   ],
   "source": [
    "pos_councter_df.columns.tolist()"
   ]
  },
  {
   "cell_type": "code",
   "execution_count": 56,
   "metadata": {},
   "outputs": [
    {
     "name": "stdout",
     "output_type": "stream",
     "text": [
      "$: dollar\n",
      "    $ -$ --$ A$ C$ HK$ M$ NZ$ S$ U.S.$ US$\n",
      "'': closing quotation mark\n",
      "    ' ''\n",
      "(: opening parenthesis\n",
      "    ( [ {\n",
      "): closing parenthesis\n",
      "    ) ] }\n",
      ",: comma\n",
      "    ,\n",
      "--: dash\n",
      "    --\n",
      ".: sentence terminator\n",
      "    . ! ?\n",
      ":: colon or ellipsis\n",
      "    : ; ...\n",
      "CC: conjunction, coordinating\n",
      "    & 'n and both but either et for less minus neither nor or plus so\n",
      "    therefore times v. versus vs. whether yet\n",
      "CD: numeral, cardinal\n",
      "    mid-1890 nine-thirty forty-two one-tenth ten million 0.5 one forty-\n",
      "    seven 1987 twenty '79 zero two 78-degrees eighty-four IX '60s .025\n",
      "    fifteen 271,124 dozen quintillion DM2,000 ...\n",
      "DT: determiner\n",
      "    all an another any both del each either every half la many much nary\n",
      "    neither no some such that the them these this those\n",
      "EX: existential there\n",
      "    there\n",
      "FW: foreign word\n",
      "    gemeinschaft hund ich jeux habeas Haementeria Herr K'ang-si vous\n",
      "    lutihaw alai je jour objets salutaris fille quibusdam pas trop Monte\n",
      "    terram fiche oui corporis ...\n",
      "IN: preposition or conjunction, subordinating\n",
      "    astride among uppon whether out inside pro despite on by throughout\n",
      "    below within for towards near behind atop around if like until below\n",
      "    next into if beside ...\n",
      "JJ: adjective or numeral, ordinal\n",
      "    third ill-mannered pre-war regrettable oiled calamitous first separable\n",
      "    ectoplasmic battery-powered participatory fourth still-to-be-named\n",
      "    multilingual multi-disciplinary ...\n",
      "JJR: adjective, comparative\n",
      "    bleaker braver breezier briefer brighter brisker broader bumper busier\n",
      "    calmer cheaper choosier cleaner clearer closer colder commoner costlier\n",
      "    cozier creamier crunchier cuter ...\n",
      "JJS: adjective, superlative\n",
      "    calmest cheapest choicest classiest cleanest clearest closest commonest\n",
      "    corniest costliest crassest creepiest crudest cutest darkest deadliest\n",
      "    dearest deepest densest dinkiest ...\n",
      "LS: list item marker\n",
      "    A A. B B. C C. D E F First G H I J K One SP-44001 SP-44002 SP-44005\n",
      "    SP-44007 Second Third Three Two * a b c d first five four one six three\n",
      "    two\n",
      "MD: modal auxiliary\n",
      "    can cannot could couldn't dare may might must need ought shall should\n",
      "    shouldn't will would\n",
      "NN: noun, common, singular or mass\n",
      "    common-carrier cabbage knuckle-duster Casino afghan shed thermostat\n",
      "    investment slide humour falloff slick wind hyena override subhumanity\n",
      "    machinist ...\n",
      "NNP: noun, proper, singular\n",
      "    Motown Venneboerger Czestochwa Ranzer Conchita Trumplane Christos\n",
      "    Oceanside Escobar Kreisler Sawyer Cougar Yvette Ervin ODI Darryl CTCA\n",
      "    Shannon A.K.C. Meltex Liverpool ...\n",
      "NNPS: noun, proper, plural\n",
      "    Americans Americas Amharas Amityvilles Amusements Anarcho-Syndicalists\n",
      "    Andalusians Andes Andruses Angels Animals Anthony Antilles Antiques\n",
      "    Apache Apaches Apocrypha ...\n",
      "NNS: noun, common, plural\n",
      "    undergraduates scotches bric-a-brac products bodyguards facets coasts\n",
      "    divestitures storehouses designs clubs fragrances averages\n",
      "    subjectivists apprehensions muses factory-jobs ...\n",
      "PDT: pre-determiner\n",
      "    all both half many quite such sure this\n",
      "POS: genitive marker\n",
      "    ' 's\n",
      "PRP: pronoun, personal\n",
      "    hers herself him himself hisself it itself me myself one oneself ours\n",
      "    ourselves ownself self she thee theirs them themselves they thou thy us\n",
      "PRP$: pronoun, possessive\n",
      "    her his mine my our ours their thy your\n",
      "RB: adverb\n",
      "    occasionally unabatingly maddeningly adventurously professedly\n",
      "    stirringly prominently technologically magisterially predominately\n",
      "    swiftly fiscally pitilessly ...\n",
      "RBR: adverb, comparative\n",
      "    further gloomier grander graver greater grimmer harder harsher\n",
      "    healthier heavier higher however larger later leaner lengthier less-\n",
      "    perfectly lesser lonelier longer louder lower more ...\n",
      "RBS: adverb, superlative\n",
      "    best biggest bluntest earliest farthest first furthest hardest\n",
      "    heartiest highest largest least less most nearest second tightest worst\n",
      "RP: particle\n",
      "    aboard about across along apart around aside at away back before behind\n",
      "    by crop down ever fast for forth from go high i.e. in into just later\n",
      "    low more off on open out over per pie raising start teeth that through\n",
      "    under unto up up-pp upon whole with you\n",
      "SYM: symbol\n",
      "    % & ' '' ''. ) ). * + ,. < = > @ A[fj] U.S U.S.S.R * ** ***\n",
      "TO: \"to\" as preposition or infinitive marker\n",
      "    to\n",
      "UH: interjection\n",
      "    Goodbye Goody Gosh Wow Jeepers Jee-sus Hubba Hey Kee-reist Oops amen\n",
      "    huh howdy uh dammit whammo shucks heck anyways whodunnit honey golly\n",
      "    man baby diddle hush sonuvabitch ...\n",
      "VB: verb, base form\n",
      "    ask assemble assess assign assume atone attention avoid bake balkanize\n",
      "    bank begin behold believe bend benefit bevel beware bless boil bomb\n",
      "    boost brace break bring broil brush build ...\n",
      "VBD: verb, past tense\n",
      "    dipped pleaded swiped regummed soaked tidied convened halted registered\n",
      "    cushioned exacted snubbed strode aimed adopted belied figgered\n",
      "    speculated wore appreciated contemplated ...\n",
      "VBG: verb, present participle or gerund\n",
      "    telegraphing stirring focusing angering judging stalling lactating\n",
      "    hankerin' alleging veering capping approaching traveling besieging\n",
      "    encrypting interrupting erasing wincing ...\n",
      "VBN: verb, past participle\n",
      "    multihulled dilapidated aerosolized chaired languished panelized used\n",
      "    experimented flourished imitated reunifed factored condensed sheared\n",
      "    unsettled primed dubbed desired ...\n",
      "VBP: verb, present tense, not 3rd person singular\n",
      "    predominate wrap resort sue twist spill cure lengthen brush terminate\n",
      "    appear tend stray glisten obtain comprise detest tease attract\n",
      "    emphasize mold postpone sever return wag ...\n",
      "VBZ: verb, present tense, 3rd person singular\n",
      "    bases reconstructs marks mixes displeases seals carps weaves snatches\n",
      "    slumps stretches authorizes smolders pictures emerges stockpiles\n",
      "    seduces fizzes uses bolsters slaps speaks pleads ...\n",
      "WDT: WH-determiner\n",
      "    that what whatever which whichever\n",
      "WP: WH-pronoun\n",
      "    that what whatever whatsoever which who whom whosoever\n",
      "WP$: WH-pronoun, possessive\n",
      "    whose\n",
      "WRB: Wh-adverb\n",
      "    how however whence whenever where whereby whereever wherein whereof why\n",
      "``: opening quotation mark\n",
      "    ` ``\n"
     ]
    }
   ],
   "source": [
    "# To get complete info on various NLTK tagset we can run below command\n",
    "#nltk.help.upenn_tagset()"
   ]
  },
  {
   "cell_type": "code",
   "execution_count": 75,
   "metadata": {},
   "outputs": [],
   "source": [
    "#Dropping columns with $ amount\n",
    "pos_councter_df = pos_councter_df.drop([ \"''\", '$'],axis=1)\n",
    "#nltk.help.upenn_tagset()"
   ]
  },
  {
   "cell_type": "code",
   "execution_count": 76,
   "metadata": {},
   "outputs": [],
   "source": [
    "#Calcuating a new column to find total number of words in the sentence\n",
    "pos_councter_df['WC'] = pos_councter_df.sum(axis=1)\n",
    "\n",
    "#Calculating % of each POS in total word Count\n",
    "pos_councter_df['NNS'] = pos_councter_df['NNS']/pos_councter_df['WC']\n",
    "pos_councter_df[ 'VBP'] = pos_councter_df[ 'VBP']/pos_councter_df['WC']\n",
    "pos_councter_df[ 'PRP'] = pos_councter_df[ 'PRP']/pos_councter_df['WC']\n",
    "pos_councter_df[ 'DT'] = pos_councter_df[ 'DT']/pos_councter_df['WC']\n",
    "pos_councter_df[ 'NN'] = pos_councter_df[ 'NN']/pos_councter_df['WC']\n",
    "pos_councter_df[ 'RB'] = pos_councter_df[ 'RB']/pos_councter_df['WC']\n",
    "pos_councter_df[ 'VBZ'] = pos_councter_df[ 'VBZ']/pos_councter_df['WC']\n",
    "pos_councter_df[ 'IN'] = pos_councter_df[ 'IN']/pos_councter_df['WC']\n",
    "pos_councter_df[ 'JJ'] = pos_councter_df[ 'JJ']/pos_councter_df['WC']\n",
    "pos_councter_df[ 'WRB'] = pos_councter_df[ 'WRB']/pos_councter_df['WC']\n",
    "pos_councter_df[ 'PRP$'] = pos_councter_df[ 'PRP$']/pos_councter_df['WC']\n",
    "pos_councter_df[ 'CC'] = pos_councter_df[ 'CC']/pos_councter_df['WC']\n",
    "pos_councter_df[ 'CD'] = pos_councter_df[ 'CD']/pos_councter_df['WC']\n",
    "pos_councter_df[ 'MD'] = pos_councter_df[ 'MD']/pos_councter_df['WC']\n",
    "pos_councter_df[ 'VB'] = pos_councter_df[ 'VB']/pos_councter_df['WC']\n",
    "pos_councter_df[ 'TO'] = pos_councter_df[ 'TO']/pos_councter_df['WC']\n",
    "pos_councter_df[ 'VBG'] = pos_councter_df[ 'VBG']/pos_councter_df['WC']\n",
    "pos_councter_df[ 'JJS'] = pos_councter_df[ 'JJS']/pos_councter_df['WC']\n",
    "pos_councter_df[ 'VBD'] = pos_councter_df[ 'VBD']/pos_councter_df['WC']\n",
    "pos_councter_df[ 'VBN'] = pos_councter_df[ 'VBN']/pos_councter_df['WC']\n",
    "pos_councter_df[ 'WP'] = pos_councter_df[ 'WP']/pos_councter_df['WC']\n",
    "pos_councter_df[ 'RBR'] = pos_councter_df[ 'RBR']/pos_councter_df['WC']\n",
    "pos_councter_df[ 'JJR'] = pos_councter_df[ 'JJR']/pos_councter_df['WC']\n",
    "pos_councter_df[ 'WDT'] = pos_councter_df[ 'WDT']/pos_councter_df['WC']\n",
    "pos_councter_df[ 'EX'] = pos_councter_df[ 'EX']/pos_councter_df['WC']\n",
    "pos_councter_df[ 'RP'] = pos_councter_df[ 'RP']/pos_councter_df['WC']\n",
    "pos_councter_df[ 'PDT'] = pos_councter_df[ 'PDT']/pos_councter_df['WC']\n",
    "pos_councter_df[ 'RBS'] = pos_councter_df[ 'RBS']/pos_councter_df['WC']\n",
    "pos_councter_df[ 'FW'] = pos_councter_df[ 'FW']/pos_councter_df['WC']\n",
    "pos_councter_df[ 'NNPS'] = pos_councter_df[ 'NNPS']/pos_councter_df['WC']\n",
    "pos_councter_df[ 'UH'] = pos_councter_df[ 'UH']/pos_councter_df['WC']\n",
    "pos_councter_df[ 'NNP'] = pos_councter_df[ 'NNP']/pos_councter_df['WC']\n",
    "pos_councter_df[ 'WP$'] = pos_councter_df[ 'WP$']/pos_councter_df['WC']\n",
    "pos_councter_df[ 'POS'] = pos_councter_df[ 'POS']/pos_councter_df['WC']\n",
    "pos_councter_df[ 'SYM'] = pos_councter_df[ 'SYM']/pos_councter_df['WC']\n",
    "#pos_councter_df[ 'WC'] = pos_councter_df[ 'WC']/pos_councter_df['WC']\n",
    "\n",
    "\n",
    "\n",
    "#Filling NAN with 0\n",
    "pos_councter_df = pos_councter_df.fillna(0)\n"
   ]
  },
  {
   "cell_type": "code",
   "execution_count": 77,
   "metadata": {},
   "outputs": [],
   "source": [
    "#Combining and labelling dataset\n",
    "combine_new = pd.concat([combine['Reviewer'], pos_councter_df], axis=1)\n",
    "feature = combine_new.iloc[:,1:-1]\n",
    "label = combine_new['Reviewer']\n"
   ]
  },
  {
   "cell_type": "markdown",
   "metadata": {},
   "source": [
    "<h3><center><font color=DarkSlateBlue >Support Vector Machine (POS Tags)</center></h3> "
   ]
  },
  {
   "cell_type": "code",
   "execution_count": 78,
   "metadata": {},
   "outputs": [],
   "source": [
    "X_train, y_train, X_test,y_test = train_test_split(feature,label,test_size = 0.2,random_state=52)\n",
    "svm = SVC(kernel='linear',probability=True)\n",
    "svm_model = svm.fit(X_train,X_test)\n",
    "y_pred2 = svm_model.predict(y_train)"
   ]
  },
  {
   "cell_type": "code",
   "execution_count": 79,
   "metadata": {},
   "outputs": [
    {
     "name": "stdout",
     "output_type": "stream",
     "text": [
      "Actual  Predictions\n",
      "Expert  Expert         2859\n",
      "        Normal          157\n",
      "Normal  Expert           74\n",
      "        Normal         2910\n",
      "Name: Actual, dtype: int64\n",
      "\n",
      "Precision: 0.855 / Recall: 0.916 / Accuracy: 0.88\n"
     ]
    }
   ],
   "source": [
    "#Review Results\n",
    "results=pd.DataFrame(list(zip(y_pred, y_test)),columns=['Predictions','Actual'])\n",
    "print(results.groupby(['Actual','Predictions'])['Actual'].agg('count'))\n",
    "\n",
    "print()\n",
    "\n",
    "precision, recall,fscore,support = score(y_test,y_pred2,pos_label='Expert',average='binary')\n",
    "print('Precision: {} / Recall: {} / Accuracy: {}'.format(round(precision,3),round(recall,3),round((y_pred2==y_test).sum()/len(y_pred2),3)))"
   ]
  },
  {
   "cell_type": "markdown",
   "metadata": {},
   "source": [
    "<h3><center><font color=DarkSlateBlue > Random Forest (POS Tags)"
   ]
  },
  {
   "cell_type": "code",
   "execution_count": 80,
   "metadata": {},
   "outputs": [],
   "source": [
    "#Running Random forest model\n",
    "X_train, y_train, X_test,y_test = train_test_split(feature,label,test_size = 0.2,random_state=52)\n",
    "rf = RandomForestClassifier(n_estimators=100,max_depth=20,n_jobs=-1)\n",
    "rf_model = rf.fit(X_train,X_test)\n",
    "y_pred =rf_model.predict(y_train)"
   ]
  },
  {
   "cell_type": "code",
   "execution_count": 83,
   "metadata": {},
   "outputs": [
    {
     "name": "stdout",
     "output_type": "stream",
     "text": [
      "Actual  Predictions\n",
      "Expert  Expert         2856\n",
      "        Normal          160\n",
      "Normal  Expert           77\n",
      "        Normal         2907\n",
      "Name: Actual, dtype: int64\n",
      "\n",
      "Precision: 0.974 / Recall: 0.947 / Accuracy: 0.96\n"
     ]
    }
   ],
   "source": [
    "#Review Results\n",
    "results=pd.DataFrame(list(zip(y_pred, y_test)),columns=['Predictions','Actual'])\n",
    "print(results.groupby(['Actual','Predictions'])['Actual'].agg('count'))\n",
    "\n",
    "print()\n",
    "\n",
    "precision, recall,fscore,support = score(y_test,y_pred,pos_label='Expert',average='binary')\n",
    "print('Precision: {} / Recall: {} / Accuracy: {}'.format(round(precision,3),round(recall,3),round((y_pred==y_test).sum()/len(y_pred),3)))"
   ]
  },
  {
   "cell_type": "code",
   "execution_count": 84,
   "metadata": {},
   "outputs": [
    {
     "data": {
      "image/png": "[encoded data removed]",
      "text/plain": [
       "<Figure size 432x288 with 1 Axes>"
      ]
     },
     "metadata": {
      "needs_background": "light"
     },
     "output_type": "display_data"
    }
   ],
   "source": [
    "#Preparing ROC Curve for Random Forest\n",
    "\n",
    "y_test.replace('Expert',1,inplace=True)\n",
    "y_test.replace('Normal',0,inplace=True)\n",
    "y_pred3 = pd.Series(y_pred)\n",
    "y_pred3.replace('Expert',1,inplace=True)\n",
    "y_pred3.replace('Normal',0,inplace=True)\n",
    "\n",
    "# calculate the fpr and tpr for all thresholds of the classification\n",
    "probs = rf.predict_proba(y_train)\n",
    "preds = probs[:,1]\n",
    "fpr, tpr, threshold = metrics.roc_curve(y_test, preds)\n",
    "roc_auc2 = metrics.auc(tpr, fpr)\n",
    "\n",
    "# method I: plt\n",
    "lw = 2\n",
    "plt.title('Receiver Operating Characteristic')\n",
    "plt.plot(tpr, fpr,label = 'AUC = %0.3f' % roc_auc2)\n",
    "plt.legend(loc = 'lower right')\n",
    "plt.plot([0, 1], [0, 1],lw=lw, linestyle='--')\n",
    "plt.xlim([0, 1])\n",
    "plt.ylim([0, 1.05])\n",
    "plt.ylabel('True Positive Rate')\n",
    "plt.xlabel('False Positive Rate')\n",
    "plt.show()"
   ]
  },
  {
   "cell_type": "markdown",
   "metadata": {},
   "source": [
    "<h3><center><font color=DarkSlateBlue > Reviewing Features that most contributed to the Random Forest Model"
   ]
  },
  {
   "cell_type": "code",
   "execution_count": 85,
   "metadata": {},
   "outputs": [
    {
     "data": {
      "image/png": "[encoded data removed]",
      "text/plain": [
       "<Figure size 1440x360 with 1 Axes>"
      ]
     },
     "metadata": {
      "needs_background": "light"
     },
     "output_type": "display_data"
    }
   ],
   "source": [
    "features = X_train.columns.values\n",
    "importances = rf.feature_importances_\n",
    "indices = np.argsort(importances)\n",
    "plt.figure(figsize=(20,5))\n",
    "plt.title('POS Feature Importances')\n",
    "plt.bar(range(len(indices)), importances[indices], color='#8f63f4', align='center')\n",
    "plt.xticks(range(len(indices)), features[indices],)\n",
    "plt.xlabel('Relative Importance')\n",
    "\n",
    "plt.show()"
   ]
  },
  {
   "cell_type": "code",
   "execution_count": 86,
   "metadata": {},
   "outputs": [
    {
     "data": {
      "text/html": [
       "<div>\n",
       "<style scoped>\n",
       "    .dataframe tbody tr th:only-of-type {\n",
       "        vertical-align: middle;\n",
       "    }\n",
       "\n",
       "    .dataframe tbody tr th {\n",
       "        vertical-align: top;\n",
       "    }\n",
       "\n",
       "    .dataframe thead th {\n",
       "        text-align: right;\n",
       "    }\n",
       "</style>\n",
       "<table border=\"1\" class=\"dataframe\">\n",
       "  <thead>\n",
       "    <tr style=\"text-align: right;\">\n",
       "      <th></th>\n",
       "      <th>NNS</th>\n",
       "      <th>VBP</th>\n",
       "      <th>PRP</th>\n",
       "      <th>DT</th>\n",
       "      <th>NN</th>\n",
       "      <th>RB</th>\n",
       "      <th>VBZ</th>\n",
       "      <th>IN</th>\n",
       "      <th>JJ</th>\n",
       "      <th>WRB</th>\n",
       "      <th>PRP$</th>\n",
       "      <th>CC</th>\n",
       "      <th>CD</th>\n",
       "      <th>MD</th>\n",
       "      <th>VB</th>\n",
       "      <th>TO</th>\n",
       "      <th>VBG</th>\n",
       "      <th>JJS</th>\n",
       "      <th>VBD</th>\n",
       "      <th>VBN</th>\n",
       "      <th>WP</th>\n",
       "      <th>RBR</th>\n",
       "      <th>JJR</th>\n",
       "      <th>WDT</th>\n",
       "      <th>EX</th>\n",
       "      <th>RP</th>\n",
       "      <th>PDT</th>\n",
       "      <th>RBS</th>\n",
       "      <th>FW</th>\n",
       "      <th>NNPS</th>\n",
       "      <th>UH</th>\n",
       "      <th>NNP</th>\n",
       "      <th>WP$</th>\n",
       "      <th>POS</th>\n",
       "      <th>SYM</th>\n",
       "      <th>WC</th>\n",
       "    </tr>\n",
       "    <tr>\n",
       "      <th>Reviewer</th>\n",
       "      <th></th>\n",
       "      <th></th>\n",
       "      <th></th>\n",
       "      <th></th>\n",
       "      <th></th>\n",
       "      <th></th>\n",
       "      <th></th>\n",
       "      <th></th>\n",
       "      <th></th>\n",
       "      <th></th>\n",
       "      <th></th>\n",
       "      <th></th>\n",
       "      <th></th>\n",
       "      <th></th>\n",
       "      <th></th>\n",
       "      <th></th>\n",
       "      <th></th>\n",
       "      <th></th>\n",
       "      <th></th>\n",
       "      <th></th>\n",
       "      <th></th>\n",
       "      <th></th>\n",
       "      <th></th>\n",
       "      <th></th>\n",
       "      <th></th>\n",
       "      <th></th>\n",
       "      <th></th>\n",
       "      <th></th>\n",
       "      <th></th>\n",
       "      <th></th>\n",
       "      <th></th>\n",
       "      <th></th>\n",
       "      <th></th>\n",
       "      <th></th>\n",
       "      <th></th>\n",
       "      <th></th>\n",
       "    </tr>\n",
       "  </thead>\n",
       "  <tbody>\n",
       "    <tr>\n",
       "      <th>Expert</th>\n",
       "      <td>0.049386</td>\n",
       "      <td>0.029720</td>\n",
       "      <td>0.022290</td>\n",
       "      <td>0.070440</td>\n",
       "      <td>0.307469</td>\n",
       "      <td>0.039539</td>\n",
       "      <td>0.032591</td>\n",
       "      <td>0.089187</td>\n",
       "      <td>0.101259</td>\n",
       "      <td>0.003103</td>\n",
       "      <td>0.013126</td>\n",
       "      <td>0.023254</td>\n",
       "      <td>0.024245</td>\n",
       "      <td>0.006329</td>\n",
       "      <td>0.028563</td>\n",
       "      <td>0.018459</td>\n",
       "      <td>0.018093</td>\n",
       "      <td>0.002444</td>\n",
       "      <td>0.016575</td>\n",
       "      <td>0.019542</td>\n",
       "      <td>0.003577</td>\n",
       "      <td>0.001755</td>\n",
       "      <td>0.002621</td>\n",
       "      <td>0.003884</td>\n",
       "      <td>0.001183</td>\n",
       "      <td>0.00309</td>\n",
       "      <td>0.000775</td>\n",
       "      <td>0.000576</td>\n",
       "      <td>0.018892</td>\n",
       "      <td>0.000007</td>\n",
       "      <td>0.000024</td>\n",
       "      <td>0.032580</td>\n",
       "      <td>0.000149</td>\n",
       "      <td>4.975977e-06</td>\n",
       "      <td>4.509875e-07</td>\n",
       "      <td>868.765667</td>\n",
       "    </tr>\n",
       "    <tr>\n",
       "      <th>Normal</th>\n",
       "      <td>0.047536</td>\n",
       "      <td>0.022637</td>\n",
       "      <td>0.030256</td>\n",
       "      <td>0.090747</td>\n",
       "      <td>0.373760</td>\n",
       "      <td>0.055111</td>\n",
       "      <td>0.026344</td>\n",
       "      <td>0.075582</td>\n",
       "      <td>0.082126</td>\n",
       "      <td>0.003952</td>\n",
       "      <td>0.011678</td>\n",
       "      <td>0.031082</td>\n",
       "      <td>0.010384</td>\n",
       "      <td>0.007861</td>\n",
       "      <td>0.029320</td>\n",
       "      <td>0.015703</td>\n",
       "      <td>0.017672</td>\n",
       "      <td>0.003999</td>\n",
       "      <td>0.029750</td>\n",
       "      <td>0.015180</td>\n",
       "      <td>0.003701</td>\n",
       "      <td>0.001842</td>\n",
       "      <td>0.003014</td>\n",
       "      <td>0.003408</td>\n",
       "      <td>0.001565</td>\n",
       "      <td>0.00313</td>\n",
       "      <td>0.001489</td>\n",
       "      <td>0.000711</td>\n",
       "      <td>0.000239</td>\n",
       "      <td>0.000007</td>\n",
       "      <td>0.000059</td>\n",
       "      <td>0.000114</td>\n",
       "      <td>0.000039</td>\n",
       "      <td>3.827689e-07</td>\n",
       "      <td>0.000000e+00</td>\n",
       "      <td>104.160200</td>\n",
       "    </tr>\n",
       "  </tbody>\n",
       "</table>\n",
       "</div>"
      ],
      "text/plain": [
       "               NNS       VBP       PRP        DT        NN        RB       VBZ        IN        JJ       WRB      PRP$        CC        CD        MD        VB        TO       VBG       JJS       VBD       VBN        WP       RBR       JJR       WDT        EX       RP       PDT       RBS        FW      NNPS        UH       NNP       WP$           POS           SYM          WC\n",
       "Reviewer                                                                                                                                                                                                                                                                                                                                                                                 \n",
       "Expert    0.049386  0.029720  0.022290  0.070440  0.307469  0.039539  0.032591  0.089187  0.101259  0.003103  0.013126  0.023254  0.024245  0.006329  0.028563  0.018459  0.018093  0.002444  0.016575  0.019542  0.003577  0.001755  0.002621  0.003884  0.001183  0.00309  0.000775  0.000576  0.018892  0.000007  0.000024  0.032580  0.000149  4.975977e-06  4.509875e-07  868.765667\n",
       "Normal    0.047536  0.022637  0.030256  0.090747  0.373760  0.055111  0.026344  0.075582  0.082126  0.003952  0.011678  0.031082  0.010384  0.007861  0.029320  0.015703  0.017672  0.003999  0.029750  0.015180  0.003701  0.001842  0.003014  0.003408  0.001565  0.00313  0.001489  0.000711  0.000239  0.000007  0.000059  0.000114  0.000039  3.827689e-07  0.000000e+00  104.160200"
      ]
     },
     "execution_count": 86,
     "metadata": {},
     "output_type": "execute_result"
    }
   ],
   "source": [
    "means = combine_new.groupby('Reviewer').mean()\n",
    "means"
   ]
  },
  {
   "cell_type": "markdown",
   "metadata": {},
   "source": [
    "<left><font color=DarkSlateBlue > Based on above observation we can deduce that Expert tends to use Proper Noun (NNP),Cardinal Numeral (CD), Noun(NN) more frequently than Normal user. "
   ]
  },
  {
   "cell_type": "markdown",
   "metadata": {},
   "source": [
    "<h2><center><font color=DarkSlateBlue > Accuracy Improvement - Combining POS and CountVectorizer Dataset to run SVM"
   ]
  },
  {
   "cell_type": "code",
   "execution_count": null,
   "metadata": {
    "scrolled": true
   },
   "outputs": [],
   "source": [
    "#Tokenize, create Part of Speech Tags and combine them\n",
    "combine['pos text'] =  [nltk.word_tokenize(i)for i in combine['Review']] \n",
    "combine['pos'] =  [nltk.pos_tag(i)for i in combine['pos text']]   \n",
    "combine['pos_counter'] = [Counter( tag for word ,  tag in i) for i in combine['pos']] "
   ]
  },
  {
   "cell_type": "code",
   "execution_count": null,
   "metadata": {},
   "outputs": [],
   "source": [
    "combine['text length'] = combine['Review'].apply(lambda x: len(x) - x.count(\" \"))"
   ]
  },
  {
   "cell_type": "code",
   "execution_count": null,
   "metadata": {},
   "outputs": [],
   "source": [
    "pos_councter_df = combine['pos_counter'].apply(pd.Series)\n",
    "pos_councter_df = pos_councter_df.fillna(0)\n",
    "combine = pd.concat([combine, pos_councter_df], axis=1)\n",
    "cols = combine.columns.tolist()"
   ]
  },
  {
   "cell_type": "markdown",
   "metadata": {},
   "source": [
    "Combining Data - POS Model + Count Vectorizer"
   ]
  },
  {
   "cell_type": "code",
   "execution_count": null,
   "metadata": {},
   "outputs": [],
   "source": [
    "#Tokenize, create Part of Speech Tags and combine them\n",
    "combine['pos text'] =  [nltk.word_tokenize(i)for i in combine['Review_Short']] \n",
    "combine['pos'] =  [nltk.pos_tag(i)for i in combine['pos text']]   \n",
    "combine['pos_counter'] = [Counter( tag for word ,  tag in i) for i in combine['pos']] \n",
    "    "
   ]
  },
  {
   "cell_type": "code",
   "execution_count": null,
   "metadata": {},
   "outputs": [],
   "source": [
    "#Getting count columns  for  each Part of Speech Tag\n",
    "pos_councter_df = combine['pos_counter'].apply(pd.Series)\n",
    "pos_councter_df = pos_councter_df.fillna(0)"
   ]
  },
  {
   "cell_type": "code",
   "execution_count": null,
   "metadata": {},
   "outputs": [],
   "source": [
    "pos_councter_df = pos_councter_df.drop([ \"''\", '$'],axis=1)"
   ]
  },
  {
   "cell_type": "code",
   "execution_count": null,
   "metadata": {},
   "outputs": [],
   "source": [
    "pos_councter_df.columns"
   ]
  },
  {
   "cell_type": "code",
   "execution_count": null,
   "metadata": {},
   "outputs": [],
   "source": []
  },
  {
   "cell_type": "code",
   "execution_count": null,
   "metadata": {},
   "outputs": [],
   "source": [
    "#Running Random forest model\n",
    "X_train, y_train, X_test,y_test = train_test_split(z,label,test_size = 0.2,random_state=52)\n",
    "rf = RandomForestClassifier(n_estimators=100,max_depth=20,n_jobs=-1)\n",
    "rf_model = rf.fit(X_train,X_test)\n",
    "y_pred3 =rf_model.predict(y_train)"
   ]
  }
 ],
 "metadata": {
  "kernelspec": {
   "display_name": "Python 3",
   "language": "python",
   "name": "python3"
  },
  "language_info": {
   "codemirror_mode": {
    "name": "ipython",
    "version": 3
   },
   "file_extension": ".py",
   "mimetype": "text/x-python",
   "name": "python",
   "nbconvert_exporter": "python",
   "pygments_lexer": "ipython3",
   "version": "3.7.1"
  }
 },
 "nbformat": 4,
 "nbformat_minor": 2
}
